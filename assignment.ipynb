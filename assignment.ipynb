{
 "cells": [
  {
   "cell_type": "markdown",
   "metadata": {
    "colab_type": "text",
    "id": "7SXpaKwwGe5x"
   },
   "source": [
    "# TM10007 Assignment template"
   ]
  },
  {
   "cell_type": "code",
   "execution_count": 4,
   "metadata": {
    "colab": {
     "base_uri": "https://localhost:8080/",
     "height": 69
    },
    "colab_type": "code",
    "id": "CiDn2Sk-VWqE",
    "outputId": "64224cd2-6054-4b04-a3f6-af8290400dfc"
   },
   "outputs": [],
   "source": [
    " #Run this to use from colab environment\n",
    "!pip install -q --upgrade git+https://github.com/karinvangarderen/tm10007_project.git"
   ]
  },
  {
   "cell_type": "markdown",
   "metadata": {},
   "source": [
    "## Data loading and cleaning\n",
    "\n",
    "Below are functions to load the dataset of your choice. After that, it is all up to you to create and evaluate a classification method. Beware, there may be missing values in these datasets. Good luck!"
   ]
  },
  {
   "cell_type": "code",
   "execution_count": 23,
   "metadata": {
    "colab": {},
    "colab_type": "code",
    "id": "-NE_fTbKGe5z",
    "tags": []
   },
   "outputs": [
    {
     "output_type": "stream",
     "name": "stdout",
     "text": [
      "The number of samples: 167\n",
      "The number of columns: 725\n",
      "              VOLUME_ET  VOLUME_NET  VOLUME_ED  VOLUME_TC  VOLUME_WT  \\\n",
      "ID                                                                     \n",
      "TCGA-02-0006       1662         384      36268       2046      38314   \n",
      "TCGA-02-0009       4362        4349      15723       8711      24434   \n",
      "TCGA-02-0011      33404       48612      45798      82016     127814   \n",
      "TCGA-02-0027      12114        7587      34086      19701      53787   \n",
      "TCGA-02-0033      34538        7137      65653      41675     107328   \n",
      "...                 ...         ...        ...        ...        ...   \n",
      "TCGA-HT-8018       2093        8685      39142      10778      49920   \n",
      "TCGA-HT-8111       1929         437      54079       2366      56445   \n",
      "TCGA-HT-8114       8755      168606      11325     177361     188686   \n",
      "TCGA-HT-8563      11757        1012     138755      12769     151524   \n",
      "TCGA-HT-A61A          0       60154      76349      60154     136503   \n",
      "\n",
      "              VOLUME_BRAIN  VOLUME_ET_OVER_NET VOLUME_ET_OVER_ED  \\\n",
      "ID                                                                 \n",
      "TCGA-02-0006       1469432            4.328125         0.0458255   \n",
      "TCGA-02-0009       1295721            1.002989          0.277428   \n",
      "TCGA-02-0011       1425843            0.687155          0.729377   \n",
      "TCGA-02-0027       1403429            1.596679          0.355395   \n",
      "TCGA-02-0033       1365237            4.839288          0.526069   \n",
      "...                    ...                 ...               ...   \n",
      "TCGA-HT-8018       1493262            0.240990      0.0534719738   \n",
      "TCGA-HT-8111       1821157            4.414188      0.0356700383   \n",
      "TCGA-HT-8114       1693971            0.051926      0.7730684327   \n",
      "TCGA-HT-8563       1605161           11.617589      0.0847320817   \n",
      "TCGA-HT-A61A       1476403            0.000000                 0   \n",
      "\n",
      "             VOLUME_NET_OVER_ED  VOLUME_ET_over_TC  ...  TCGA-HT-7686  \\\n",
      "ID                                                  ...                 \n",
      "TCGA-02-0006          0.0105878           0.812320  ...             1   \n",
      "TCGA-02-0009           0.276601           0.500750  ...             1   \n",
      "TCGA-02-0011            1.06144           0.407290  ...             1   \n",
      "TCGA-02-0027           0.222584           0.614890  ...             1   \n",
      "TCGA-02-0033           0.108708           0.828750  ...             1   \n",
      "...                         ...                ...  ...           ...   \n",
      "TCGA-HT-8018       0.2218844208           0.194190  ...             1   \n",
      "TCGA-HT-8111       0.0080807707           0.815300  ...             1   \n",
      "TCGA-HT-8114      14.8879470199           0.049363  ...             1   \n",
      "TCGA-HT-8563       0.0072934309           0.920750  ...             1   \n",
      "TCGA-HT-A61A       0.7878819631           0.000000  ...             1   \n",
      "\n",
      "              TCGA-HT-7690  TCGA-HT-7694  TCGA-HT-7879  TCGA-HT-7884  \\\n",
      "ID                                                                     \n",
      "TCGA-02-0006             1             1             1             1   \n",
      "TCGA-02-0009             1             1             1             1   \n",
      "TCGA-02-0011             1             1             1             1   \n",
      "TCGA-02-0027             1             1             1             1   \n",
      "TCGA-02-0033             1             1             1             1   \n",
      "...                    ...           ...           ...           ...   \n",
      "TCGA-HT-8018             1             1             1             1   \n",
      "TCGA-HT-8111             1             1             1             1   \n",
      "TCGA-HT-8114             1             1             1             1   \n",
      "TCGA-HT-8563             1             1             1             1   \n",
      "TCGA-HT-A61A             1             1             1             1   \n",
      "\n",
      "              TCGA-HT-8018  TCGA-HT-8111  TCGA-HT-8114  TCGA-HT-8563  \\\n",
      "ID                                                                     \n",
      "TCGA-02-0006             1             1             1             1   \n",
      "TCGA-02-0009             1             1             1             1   \n",
      "TCGA-02-0011             1             1             1             1   \n",
      "TCGA-02-0027             1             1             1             1   \n",
      "TCGA-02-0033             1             1             1             1   \n",
      "...                    ...           ...           ...           ...   \n",
      "TCGA-HT-8018             1             1             1             1   \n",
      "TCGA-HT-8111             1             1             1             1   \n",
      "TCGA-HT-8114             1             1             1             1   \n",
      "TCGA-HT-8563             1             1             1             1   \n",
      "TCGA-HT-A61A             1             1             1             1   \n",
      "\n",
      "              TCGA-HT-A61A  \n",
      "ID                          \n",
      "TCGA-02-0006             1  \n",
      "TCGA-02-0009             1  \n",
      "TCGA-02-0011             1  \n",
      "TCGA-02-0027             1  \n",
      "TCGA-02-0033             1  \n",
      "...                    ...  \n",
      "TCGA-HT-8018             1  \n",
      "TCGA-HT-8111             1  \n",
      "TCGA-HT-8114             1  \n",
      "TCGA-HT-8563             1  \n",
      "TCGA-HT-A61A             1  \n",
      "\n",
      "[167 rows x 872 columns]\n",
      "VOLUME_ET        int64\n",
      "VOLUME_NET       int64\n",
      "VOLUME_ED        int64\n",
      "VOLUME_TC        int64\n",
      "VOLUME_WT        int64\n",
      "                ...   \n",
      "TGM_Cog_X_1    float64\n",
      "TGM_Cog_Y_1    float64\n",
      "TGM_Cog_Z_1    float64\n",
      "TGM_T_1        float64\n",
      "label          float64\n",
      "Length: 705, dtype: object\n",
      "ID\n",
      "TCGA-02-0006   NaN\n",
      "TCGA-02-0009   NaN\n",
      "TCGA-02-0011   NaN\n",
      "TCGA-02-0027   NaN\n",
      "TCGA-02-0033   NaN\n",
      "                ..\n",
      "TCGA-HT-8018   NaN\n",
      "TCGA-HT-8111   NaN\n",
      "TCGA-HT-8114   NaN\n",
      "TCGA-HT-8563   NaN\n",
      "TCGA-HT-A61A   NaN\n",
      "Name: label, Length: 167, dtype: float64\n",
      "C:\\Users\\broum\\anaconda3\\lib\\site-packages\\ipykernel_launcher.py:22: SettingWithCopyWarning: \n",
      "A value is trying to be set on a copy of a slice from a DataFrame.\n",
      "Try using .loc[row_indexer,col_indexer] = value instead\n",
      "\n",
      "See the caveats in the documentation: https://pandas.pydata.org/pandas-docs/stable/user_guide/indexing.html#returning-a-view-versus-a-copy\n"
     ]
    },
    {
     "output_type": "error",
     "ename": "NameError",
     "evalue": "name 'df' is not defined",
     "traceback": [
      "\u001b[1;31m---------------------------------------------------------------------------\u001b[0m",
      "\u001b[1;31mNameError\u001b[0m                                 Traceback (most recent call last)",
      "\u001b[1;32m<ipython-input-23-7b30092065a3>\u001b[0m in \u001b[0;36m<module>\u001b[1;34m\u001b[0m\n\u001b[0;32m     26\u001b[0m \u001b[0mprint\u001b[0m\u001b[1;33m(\u001b[0m\u001b[0mdata_float\u001b[0m\u001b[1;33m[\u001b[0m\u001b[1;34m'label'\u001b[0m\u001b[1;33m]\u001b[0m\u001b[1;33m)\u001b[0m\u001b[1;33m\u001b[0m\u001b[1;33m\u001b[0m\u001b[0m\n\u001b[0;32m     27\u001b[0m \u001b[1;33m\u001b[0m\u001b[0m\n\u001b[1;32m---> 28\u001b[1;33m \u001b[0mdf\u001b[0m\u001b[1;33m[\u001b[0m\u001b[1;34m'column'\u001b[0m\u001b[1;33m]\u001b[0m \u001b[1;33m=\u001b[0m \u001b[1;33m[\u001b[0m\u001b[0mfloat\u001b[0m\u001b[1;33m(\u001b[0m\u001b[0mstr\u001b[0m\u001b[1;33m(\u001b[0m\u001b[0mval\u001b[0m\u001b[1;33m)\u001b[0m\u001b[1;33m.\u001b[0m\u001b[0mreplace\u001b[0m\u001b[1;33m(\u001b[0m\u001b[1;34m' '\u001b[0m\u001b[1;33m,\u001b[0m\u001b[1;34m''\u001b[0m\u001b[1;33m)\u001b[0m\u001b[1;33m.\u001b[0m\u001b[0mreplace\u001b[0m\u001b[1;33m(\u001b[0m\u001b[1;34m','\u001b[0m\u001b[1;33m,\u001b[0m\u001b[1;34m'.'\u001b[0m\u001b[1;33m)\u001b[0m\u001b[1;33m)\u001b[0m \u001b[1;32mfor\u001b[0m \u001b[0mval\u001b[0m \u001b[1;32min\u001b[0m \u001b[0mdf\u001b[0m\u001b[1;33m[\u001b[0m\u001b[1;34m'column'\u001b[0m\u001b[1;33m]\u001b[0m\u001b[1;33m.\u001b[0m\u001b[0mvalues\u001b[0m\u001b[1;33m]\u001b[0m\u001b[1;33m\u001b[0m\u001b[1;33m\u001b[0m\u001b[0m\n\u001b[0m\u001b[0;32m     29\u001b[0m \u001b[1;33m\u001b[0m\u001b[0m\n\u001b[0;32m     30\u001b[0m \u001b[1;33m\u001b[0m\u001b[0m\n",
      "\u001b[1;31mNameError\u001b[0m: name 'df' is not defined"
     ]
    }
   ],
   "source": [
    "# Data loading functions. Uncomment the one you want to use\n",
    "#from adni.load_data import load_data\n",
    "from brats.load_data import load_data\n",
    "from sklearn import model_selection\n",
    "#from hn.load_data import load_data\n",
    "#from ecg.load_data import load_data\n",
    "import numpy as np\n",
    "import math\n",
    "from sklearn.impute import KNNImputer\n",
    "import pandas as pd\n",
    "\n",
    "data = load_data()\n",
    "print(f'The number of samples: {len(data.index)}')\n",
    "print(f'The number of columns: {len(data.columns)}')\n",
    "\n",
    "# Drop columns which contain NaN values\n",
    "threshold = math.floor(len(data)*0.5)  \n",
    "data_drop = data.dropna(thresh=threshold, axis=1)\n",
    "\n",
    "\n",
    "for index, element in data_drop.iterrows():\n",
    "    data_drop[index] = 1\n",
    "print(data_drop)        \n",
    "#data_float = data_drop.astype(np.float64)\n",
    "print(data_float.dtypes)\n",
    "print(data_float['label'])\n",
    "\n",
    "df['column'] = [float(str(val).replace(' ','').replace(',','.')) for val in df['column'].values]\n",
    "\n",
    "\n",
    "\n",
    "\n",
    "imputer = KNNImputer(n_neighbors=2, weights=\"uniform\")\n",
    "imputed = imputer.fit_transform(data_drop)\n",
    "print(data_drop.isnull().values.any())\n",
    "\n",
    "print(f'The number of samples: {len(data_drop.index)}')\n",
    "print(f'The number of columns: {len(data_drop.columns)}')\n",
    "data\n",
    "\n",
    "# keys = np.array(data.keys())\n",
    "# #print(keys)\n",
    "# y = np.array(data['label'])\n",
    "# data.pop('label')\n",
    "# X = np.array(data[:])\n",
    "\n",
    "# # https://scikit-learn.org/stable/modules/generated/sklearn.model_selection.train_test_split.html\n",
    "# # Later percentages veranderen en kijken naar de uitkomst: dit ook onderbouwen\n",
    "# # Shuffle default = True \n",
    "# X_train, X_test, y_train, y_test = model_selection.train_test_split(X, y, train_size=0.85)\n",
    "\n",
    "# np.count_nonzero(data['VOLUME_NET_OVER_ED'])\n"
   ]
  },
  {
   "cell_type": "code",
   "execution_count": 34,
   "metadata": {
    "tags": []
   },
   "outputs": [
    {
     "output_type": "stream",
     "name": "stdout",
     "text": [
      "[[1662 384 36268 ... nan nan nan]\n [4362 4349 15723 ... nan nan nan]\n [33404 48612 45798 ... nan nan nan]\n ...\n [8755 168606 11325 ... 0.15564 0.140121 3.17204]\n [11757 1012 138755 ... nan nan nan]\n [0 60154 76349 ... nan nan nan]]\n"
     ]
    }
   ],
   "source": []
  },
  {
   "cell_type": "code",
   "execution_count": null,
   "metadata": {},
   "outputs": [],
   "source": [
    "# test 2"
   ]
  },
  {
   "cell_type": "code",
   "execution_count": null,
   "metadata": {},
   "outputs": [],
   "source": [
    "# test 3"
   ]
  },
  {
   "cell_type": "code",
   "execution_count": null,
   "metadata": {},
   "outputs": [],
   "source": [
    "# test 4"
   ]
  }
 ],
 "metadata": {
  "colab": {
   "collapsed_sections": [],
   "name": "assignment.ipynb",
   "provenance": []
  },
  "kernelspec": {
   "display_name": "Python 3",
   "language": "python",
   "name": "python3"
  },
  "language_info": {
   "codemirror_mode": {
    "name": "ipython",
    "version": 3
   },
   "file_extension": ".py",
   "mimetype": "text/x-python",
   "name": "python",
   "nbconvert_exporter": "python",
   "pygments_lexer": "ipython3",
   "version": "3.7.6"
  }
 },
 "nbformat": 4,
 "nbformat_minor": 1
}