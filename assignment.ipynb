{
 "cells": [
  {
   "cell_type": "markdown",
   "metadata": {
    "colab_type": "text",
    "id": "7SXpaKwwGe5x"
   },
   "source": [
    "# TM10007 Assignment template"
   ]
  },
  {
   "cell_type": "code",
   "execution_count": 5,
   "metadata": {
    "colab": {
     "base_uri": "https://localhost:8080/",
     "height": 69
    },
    "colab_type": "code",
    "id": "CiDn2Sk-VWqE",
    "outputId": "64224cd2-6054-4b04-a3f6-af8290400dfc"
   },
   "outputs": [],
   "source": [
    " #Run this to use from colab environment\n",
    "!pip install -q --upgrade git+https://github.com/karinvangarderen/tm10007_project.git"
   ]
  },
  {
   "cell_type": "markdown",
   "metadata": {},
   "source": [
    "## Data loading and cleaning\n",
    "\n",
    "Below are functions to load the dataset of your choice. After that, it is all up to you to create and evaluate a classification method. Beware, there may be missing values in these datasets. Good luck!"
   ]
  },
  {
   "cell_type": "code",
   "execution_count": 2,
   "metadata": {
    "colab": {},
    "colab_type": "code",
    "id": "-NE_fTbKGe5z"
   },
   "outputs": [
    {
     "output_type": "stream",
     "name": "stdout",
     "text": [
      "test\nThe number of samples: 167\nThe number of columns: 725\n              VOLUME_ET  VOLUME_NET  VOLUME_ED  VOLUME_TC  VOLUME_WT  \\\nID                                                                     \nTCGA-02-0006       1662         384      36268       2046      38314   \nTCGA-02-0009       4362        4349      15723       8711      24434   \nTCGA-02-0011      33404       48612      45798      82016     127814   \nTCGA-02-0027      12114        7587      34086      19701      53787   \nTCGA-02-0033      34538        7137      65653      41675     107328   \n...                 ...         ...        ...        ...        ...   \nTCGA-HT-8018       2093        8685      39142      10778      49920   \nTCGA-HT-8111       1929         437      54079       2366      56445   \nTCGA-HT-8114       8755      168606      11325     177361     188686   \nTCGA-HT-8563      11757        1012     138755      12769     151524   \nTCGA-HT-A61A          0       60154      76349      60154     136503   \n\n              VOLUME_BRAIN  VOLUME_ET_OVER_NET VOLUME_ET_OVER_ED  \\\nID                                                                 \nTCGA-02-0006       1469432            4.328125         0.0458255   \nTCGA-02-0009       1295721            1.002989          0.277428   \nTCGA-02-0011       1425843            0.687155          0.729377   \nTCGA-02-0027       1403429            1.596679          0.355395   \nTCGA-02-0033       1365237            4.839288          0.526069   \n...                    ...                 ...               ...   \nTCGA-HT-8018       1493262            0.240990      0.0534719738   \nTCGA-HT-8111       1821157            4.414188      0.0356700383   \nTCGA-HT-8114       1693971            0.051926      0.7730684327   \nTCGA-HT-8563       1605161           11.617589      0.0847320817   \nTCGA-HT-A61A       1476403            0.000000                 0   \n\n             VOLUME_NET_OVER_ED  VOLUME_ET_over_TC  ...  TGM_T_4  TGM_Cog_X_5  \\\nID                                                  ...                         \nTCGA-02-0006          0.0105878           0.812320  ...      NaN          NaN   \nTCGA-02-0009           0.276601           0.500750  ...      NaN          NaN   \nTCGA-02-0011            1.06144           0.407290  ...      NaN          NaN   \nTCGA-02-0027           0.222584           0.614890  ...      NaN          NaN   \nTCGA-02-0033           0.108708           0.828750  ...      NaN          NaN   \n...                         ...                ...  ...      ...          ...   \nTCGA-HT-8018       0.2218844208           0.194190  ...      NaN          NaN   \nTCGA-HT-8111       0.0080807707           0.815300  ...      NaN          NaN   \nTCGA-HT-8114      14.8879470199           0.049363  ...  5.99964     0.149851   \nTCGA-HT-8563       0.0072934309           0.920750  ...      NaN          NaN   \nTCGA-HT-A61A       0.7878819631           0.000000  ...      NaN          NaN   \n\n              TGM_Cog_Y_5  TGM_Cog_Z_5  TGM_T_5  TGM_Cog_X_6  TGM_Cog_Y_6  \\\nID                                                                          \nTCGA-02-0006          NaN          NaN      NaN          NaN          NaN   \nTCGA-02-0009          NaN          NaN      NaN          NaN          NaN   \nTCGA-02-0011          NaN          NaN      NaN          NaN          NaN   \nTCGA-02-0027          NaN          NaN      NaN          NaN          NaN   \nTCGA-02-0033          NaN          NaN      NaN          NaN          NaN   \n...                   ...          ...      ...          ...          ...   \nTCGA-HT-8018          NaN          NaN      NaN          NaN          NaN   \nTCGA-HT-8111          NaN          NaN      NaN          NaN          NaN   \nTCGA-HT-8114     0.130384     0.117081   13.434     0.143839      0.15564   \nTCGA-HT-8563          NaN          NaN      NaN          NaN          NaN   \nTCGA-HT-A61A          NaN          NaN      NaN          NaN          NaN   \n\n              TGM_Cog_Z_6  TGM_T_6  label  \nID                                         \nTCGA-02-0006          NaN      NaN    GBM  \nTCGA-02-0009          NaN      NaN    GBM  \nTCGA-02-0011          NaN      NaN    GBM  \nTCGA-02-0027          NaN      NaN    GBM  \nTCGA-02-0033          NaN      NaN    GBM  \n...                   ...      ...    ...  \nTCGA-HT-8018          NaN      NaN    LGG  \nTCGA-HT-8111          NaN      NaN    LGG  \nTCGA-HT-8114     0.140121  3.17204    LGG  \nTCGA-HT-8563          NaN      NaN    LGG  \nTCGA-HT-A61A          NaN      NaN    LGG  \n\n[167 rows x 725 columns]\n"
     ]
    }
   ],
   "source": [
    "# Data loading functions. Uncomment the one you want to use\n",
    "#from adni.load_data import load_data\n",
    "from brats.load_data import load_data\n",
    "#from hn.load_data import load_data\n",
    "#from ecg.load_data import load_data\n",
    "import numpy as np\n",
    "\n",
    "data = load_data()\n",
    "print(f'The number of samples: {len(data.index)}')\n",
    "print(f'The number of columns: {len(data.columns)}')\n",
    "\n",
    "print(data)\n"
   ]
  },
  {
   "cell_type": "code",
   "execution_count": 12,
   "metadata": {
    "tags": []
   },
   "outputs": [
    {
     "output_type": "error",
     "ename": "KeyError",
     "evalue": "'label'",
     "traceback": [
      "\u001b[1;31m---------------------------------------------------------------------------\u001b[0m",
      "\u001b[1;31mKeyError\u001b[0m                                  Traceback (most recent call last)",
      "\u001b[1;32m~\\anaconda3\\lib\\site-packages\\pandas\\core\\indexes\\base.py\u001b[0m in \u001b[0;36mget_loc\u001b[1;34m(self, key, method, tolerance)\u001b[0m\n\u001b[0;32m   2894\u001b[0m             \u001b[1;32mtry\u001b[0m\u001b[1;33m:\u001b[0m\u001b[1;33m\u001b[0m\u001b[1;33m\u001b[0m\u001b[0m\n\u001b[1;32m-> 2895\u001b[1;33m                 \u001b[1;32mreturn\u001b[0m \u001b[0mself\u001b[0m\u001b[1;33m.\u001b[0m\u001b[0m_engine\u001b[0m\u001b[1;33m.\u001b[0m\u001b[0mget_loc\u001b[0m\u001b[1;33m(\u001b[0m\u001b[0mcasted_key\u001b[0m\u001b[1;33m)\u001b[0m\u001b[1;33m\u001b[0m\u001b[1;33m\u001b[0m\u001b[0m\n\u001b[0m\u001b[0;32m   2896\u001b[0m             \u001b[1;32mexcept\u001b[0m \u001b[0mKeyError\u001b[0m \u001b[1;32mas\u001b[0m \u001b[0merr\u001b[0m\u001b[1;33m:\u001b[0m\u001b[1;33m\u001b[0m\u001b[1;33m\u001b[0m\u001b[0m\n",
      "\u001b[1;32mpandas\\_libs\\index.pyx\u001b[0m in \u001b[0;36mpandas._libs.index.IndexEngine.get_loc\u001b[1;34m()\u001b[0m\n",
      "\u001b[1;32mpandas\\_libs\\index.pyx\u001b[0m in \u001b[0;36mpandas._libs.index.IndexEngine.get_loc\u001b[1;34m()\u001b[0m\n",
      "\u001b[1;32mpandas\\_libs\\hashtable_class_helper.pxi\u001b[0m in \u001b[0;36mpandas._libs.hashtable.PyObjectHashTable.get_item\u001b[1;34m()\u001b[0m\n",
      "\u001b[1;32mpandas\\_libs\\hashtable_class_helper.pxi\u001b[0m in \u001b[0;36mpandas._libs.hashtable.PyObjectHashTable.get_item\u001b[1;34m()\u001b[0m\n",
      "\u001b[1;31mKeyError\u001b[0m: 'label'",
      "\nThe above exception was the direct cause of the following exception:\n",
      "\u001b[1;31mKeyError\u001b[0m                                  Traceback (most recent call last)",
      "\u001b[1;32m<ipython-input-12-a0c77b0e3897>\u001b[0m in \u001b[0;36m<module>\u001b[1;34m\u001b[0m\n\u001b[0;32m      4\u001b[0m \u001b[1;31m#X = np.array(data2[0:1])\u001b[0m\u001b[1;33m\u001b[0m\u001b[1;33m\u001b[0m\u001b[1;33m\u001b[0m\u001b[0m\n\u001b[0;32m      5\u001b[0m \u001b[1;33m\u001b[0m\u001b[0m\n\u001b[1;32m----> 6\u001b[1;33m \u001b[0my\u001b[0m \u001b[1;33m=\u001b[0m \u001b[0mnp\u001b[0m\u001b[1;33m.\u001b[0m\u001b[0marray\u001b[0m\u001b[1;33m(\u001b[0m\u001b[0mdata\u001b[0m\u001b[1;33m[\u001b[0m\u001b[1;34m'label'\u001b[0m\u001b[1;33m]\u001b[0m\u001b[1;33m)\u001b[0m\u001b[1;33m\u001b[0m\u001b[1;33m\u001b[0m\u001b[0m\n\u001b[0m\u001b[0;32m      7\u001b[0m \u001b[1;33m\u001b[0m\u001b[0m\n\u001b[0;32m      8\u001b[0m \u001b[1;31m# X_train, X_test, y_train, y_test = model_selection.train_test_split(X, y)\u001b[0m\u001b[1;33m\u001b[0m\u001b[1;33m\u001b[0m\u001b[1;33m\u001b[0m\u001b[0m\n",
      "\u001b[1;32m~\\anaconda3\\lib\\site-packages\\pandas\\core\\frame.py\u001b[0m in \u001b[0;36m__getitem__\u001b[1;34m(self, key)\u001b[0m\n\u001b[0;32m   2900\u001b[0m             \u001b[1;32mif\u001b[0m \u001b[0mself\u001b[0m\u001b[1;33m.\u001b[0m\u001b[0mcolumns\u001b[0m\u001b[1;33m.\u001b[0m\u001b[0mnlevels\u001b[0m \u001b[1;33m>\u001b[0m \u001b[1;36m1\u001b[0m\u001b[1;33m:\u001b[0m\u001b[1;33m\u001b[0m\u001b[1;33m\u001b[0m\u001b[0m\n\u001b[0;32m   2901\u001b[0m                 \u001b[1;32mreturn\u001b[0m \u001b[0mself\u001b[0m\u001b[1;33m.\u001b[0m\u001b[0m_getitem_multilevel\u001b[0m\u001b[1;33m(\u001b[0m\u001b[0mkey\u001b[0m\u001b[1;33m)\u001b[0m\u001b[1;33m\u001b[0m\u001b[1;33m\u001b[0m\u001b[0m\n\u001b[1;32m-> 2902\u001b[1;33m             \u001b[0mindexer\u001b[0m \u001b[1;33m=\u001b[0m \u001b[0mself\u001b[0m\u001b[1;33m.\u001b[0m\u001b[0mcolumns\u001b[0m\u001b[1;33m.\u001b[0m\u001b[0mget_loc\u001b[0m\u001b[1;33m(\u001b[0m\u001b[0mkey\u001b[0m\u001b[1;33m)\u001b[0m\u001b[1;33m\u001b[0m\u001b[1;33m\u001b[0m\u001b[0m\n\u001b[0m\u001b[0;32m   2903\u001b[0m             \u001b[1;32mif\u001b[0m \u001b[0mis_integer\u001b[0m\u001b[1;33m(\u001b[0m\u001b[0mindexer\u001b[0m\u001b[1;33m)\u001b[0m\u001b[1;33m:\u001b[0m\u001b[1;33m\u001b[0m\u001b[1;33m\u001b[0m\u001b[0m\n\u001b[0;32m   2904\u001b[0m                 \u001b[0mindexer\u001b[0m \u001b[1;33m=\u001b[0m \u001b[1;33m[\u001b[0m\u001b[0mindexer\u001b[0m\u001b[1;33m]\u001b[0m\u001b[1;33m\u001b[0m\u001b[1;33m\u001b[0m\u001b[0m\n",
      "\u001b[1;32m~\\anaconda3\\lib\\site-packages\\pandas\\core\\indexes\\base.py\u001b[0m in \u001b[0;36mget_loc\u001b[1;34m(self, key, method, tolerance)\u001b[0m\n\u001b[0;32m   2895\u001b[0m                 \u001b[1;32mreturn\u001b[0m \u001b[0mself\u001b[0m\u001b[1;33m.\u001b[0m\u001b[0m_engine\u001b[0m\u001b[1;33m.\u001b[0m\u001b[0mget_loc\u001b[0m\u001b[1;33m(\u001b[0m\u001b[0mcasted_key\u001b[0m\u001b[1;33m)\u001b[0m\u001b[1;33m\u001b[0m\u001b[1;33m\u001b[0m\u001b[0m\n\u001b[0;32m   2896\u001b[0m             \u001b[1;32mexcept\u001b[0m \u001b[0mKeyError\u001b[0m \u001b[1;32mas\u001b[0m \u001b[0merr\u001b[0m\u001b[1;33m:\u001b[0m\u001b[1;33m\u001b[0m\u001b[1;33m\u001b[0m\u001b[0m\n\u001b[1;32m-> 2897\u001b[1;33m                 \u001b[1;32mraise\u001b[0m \u001b[0mKeyError\u001b[0m\u001b[1;33m(\u001b[0m\u001b[0mkey\u001b[0m\u001b[1;33m)\u001b[0m \u001b[1;32mfrom\u001b[0m \u001b[0merr\u001b[0m\u001b[1;33m\u001b[0m\u001b[1;33m\u001b[0m\u001b[0m\n\u001b[0m\u001b[0;32m   2898\u001b[0m \u001b[1;33m\u001b[0m\u001b[0m\n\u001b[0;32m   2899\u001b[0m         \u001b[1;32mif\u001b[0m \u001b[0mtolerance\u001b[0m \u001b[1;32mis\u001b[0m \u001b[1;32mnot\u001b[0m \u001b[1;32mNone\u001b[0m\u001b[1;33m:\u001b[0m\u001b[1;33m\u001b[0m\u001b[1;33m\u001b[0m\u001b[0m\n",
      "\u001b[1;31mKeyError\u001b[0m: 'label'"
     ]
    }
   ],
   "source": [
    "keys = np.array(data.keys())\n",
    "\n",
    "#data2 = data.pop('label')\n",
    "#X = np.array(data2[0:1])\n",
    "\n",
    "y = np.array(data['label'])\n",
    "\n",
    "# X_train, X_test, y_train, y_test = model_selection.train_test_split(X, y)\n",
    "\n",
    "#print(y)\n",
    "#print(X)\n",
    "print(keys)"
   ]
  },
  {
   "cell_type": "code",
   "execution_count": null,
   "metadata": {},
   "outputs": [],
   "source": [
    "# test 2"
   ]
  },
  {
   "cell_type": "code",
   "execution_count": null,
   "metadata": {},
   "outputs": [],
   "source": [
    "# test 3"
   ]
  },
  {
   "cell_type": "code",
   "execution_count": null,
   "metadata": {},
   "outputs": [],
   "source": [
    "# test 4"
   ]
  }
 ],
 "metadata": {
  "colab": {
   "collapsed_sections": [],
   "name": "assignment.ipynb",
   "provenance": []
  },
  "kernelspec": {
   "display_name": "Python 3",
   "language": "python",
   "name": "python3"
  },
  "language_info": {
   "codemirror_mode": {
    "name": "ipython",
    "version": 3
   },
   "file_extension": ".py",
   "mimetype": "text/x-python",
   "name": "python",
   "nbconvert_exporter": "python",
   "pygments_lexer": "ipython3",
   "version": "3.8.5-final"
  }
 },
 "nbformat": 4,
 "nbformat_minor": 1
}